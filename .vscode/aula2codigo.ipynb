{
 "cells": [
  {
   "cell_type": "code",
   "execution_count": 8,
   "metadata": {},
   "outputs": [],
   "source": [
    "def calcular_pop():\n",
    "    parana_populacao = 11\n",
    "    parana_crescimento = 0.02\n",
    "    populacao_a_mais_2025 = parana_populacao * parana_crescimento\n",
    "    populacao_2025 = populacao_a_mais_2025 + parana_populacao\n",
    "    print(populacao_2025)"
   ]
  },
  {
   "cell_type": "code",
   "execution_count": 9,
   "metadata": {},
   "outputs": [
    {
     "name": "stdout",
     "output_type": "stream",
     "text": [
      "11.22\n"
     ]
    }
   ],
   "source": [
    "calcular_pop()"
   ]
  },
  {
   "cell_type": "code",
   "execution_count": 15,
   "metadata": {},
   "outputs": [],
   "source": [
    "def media_pop():\n",
    "    pop_pr = 11\n",
    "    pop_rs = 10\n",
    "    pop_sc = 7\n",
    "    pop_total = pop_pr + pop_rs + pop_sc\n",
    "    numero_estados = 3\n",
    "    media_pop = pop_total / numero_estados\n",
    "    print(media_pop)"
   ]
  },
  {
   "cell_type": "code",
   "execution_count": 16,
   "metadata": {},
   "outputs": [
    {
     "name": "stdout",
     "output_type": "stream",
     "text": [
      "9.333333333333334\n"
     ]
    }
   ],
   "source": [
    "media_pop()"
   ]
  },
  {
   "cell_type": "code",
   "execution_count": 18,
   "metadata": {},
   "outputs": [
    {
     "data": {
      "text/plain": [
       "'haushasuhasuahsuashaush'"
      ]
     },
     "execution_count": 18,
     "metadata": {},
     "output_type": "execute_result"
    }
   ],
   "source": [
    "texto_ale= \"haushasuhasuahsuashaush\"\n",
    "texto_ale"
   ]
  },
  {
   "cell_type": "code",
   "execution_count": 23,
   "metadata": {},
   "outputs": [
    {
     "name": "stdout",
     "output_type": "stream",
     "text": [
      "Marquinhos moura\n"
     ]
    }
   ],
   "source": [
    "pseudonimo = \"Marquinhos moura\"\n",
    "print(pseudonimo)"
   ]
  },
  {
   "cell_type": "code",
   "execution_count": 24,
   "metadata": {},
   "outputs": [
    {
     "name": "stdout",
     "output_type": "stream",
     "text": [
      "<built-in method capitalize of str object at 0x0000027E7F079930>\n"
     ]
    }
   ],
   "source": [
    "pseudonimo_maiusc = pseudonimo.capitalize \n",
    "print(pseudonimo_maiusc)"
   ]
  },
  {
   "cell_type": "code",
   "execution_count": 25,
   "metadata": {},
   "outputs": [
    {
     "name": "stdout",
     "output_type": "stream",
     "text": [
      "Marquinhos_moura\n",
      "['Marquinhos_moura']\n"
     ]
    }
   ],
   "source": [
    "pseudonimo = pseudonimo.replace(' ', '_')\n",
    "pseudonimo_lista = pseudonimo.split()\n",
    "print(pseudonimo)\n",
    "print(pseudonimo_lista)"
   ]
  },
  {
   "cell_type": "code",
   "execution_count": 27,
   "metadata": {},
   "outputs": [
    {
     "name": "stdout",
     "output_type": "stream",
     "text": [
      "Marquinhos_moura\n",
      "['Marquinh', 's_m', 'ura']\n"
     ]
    }
   ],
   "source": [
    "pseudonimo_lista = pseudonimo.split ('o')\n",
    "print(pseudonimo)\n",
    "print(pseudonimo_lista)"
   ]
  },
  {
   "cell_type": "code",
   "execution_count": 28,
   "metadata": {},
   "outputs": [
    {
     "name": "stdout",
     "output_type": "stream",
     "text": [
      "Marquinhos moura\n",
      "_M_a_r_q_u_i_n_h_o_s_ _m_o_u_r_a_\n",
      "<built-in method split of str object at 0x0000027E7F0BA550>\n"
     ]
    }
   ],
   "source": [
    "pseudonimo = \"Marquinhos moura\"\n",
    "print(pseudonimo)\n",
    "#substitui primeiro caracter ' ' pelo segundo '_' na str\n",
    "pseudonimo = pseudonimo.replace('','_')\n",
    "print(pseudonimo)\n",
    "#quebra string e transforma em lista\n",
    "pseudonimo = pseudonimo.split\n",
    "print(pseudonimo)\n"
   ]
  },
  {
   "cell_type": "code",
   "execution_count": 33,
   "metadata": {},
   "outputs": [
    {
     "ename": "SyntaxError",
     "evalue": "invalid character '☭' (U+262D) (826478068.py, line 4)",
     "output_type": "error",
     "traceback": [
      "\u001b[1;36m  File \u001b[1;32m\"C:\\Users\\aluno\\AppData\\Local\\Temp\\ipykernel_3248\\826478068.py\"\u001b[1;36m, line \u001b[1;32m4\u001b[0m\n\u001b[1;33m    karl☭marx\u001b[0m\n\u001b[1;37m        ^\u001b[0m\n\u001b[1;31mSyntaxError\u001b[0m\u001b[1;31m:\u001b[0m invalid character '☭' (U+262D)\n"
     ]
    }
   ],
   "source": [
    "\n",
    "    comunismo = ('karl marx')\n",
    "    comunismo_symbol = comunismo.replace(' ', '☭')\n",
    "    print(comunismo_symbol)\n",
    "    karl☭marx\n"
   ]
  },
  {
   "cell_type": "markdown",
   "metadata": {},
   "source": []
  }
 ],
 "metadata": {
  "kernelspec": {
   "display_name": "Python 3",
   "language": "python",
   "name": "python3"
  },
  "language_info": {
   "codemirror_mode": {
    "name": "ipython",
    "version": 3
   },
   "file_extension": ".py",
   "mimetype": "text/x-python",
   "name": "python",
   "nbconvert_exporter": "python",
   "pygments_lexer": "ipython3",
   "version": "3.10.8"
  }
 },
 "nbformat": 4,
 "nbformat_minor": 2
}
